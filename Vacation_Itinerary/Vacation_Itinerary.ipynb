{
 "cells": [
  {
   "cell_type": "markdown",
   "metadata": {},
   "source": [
    "# Deliverable 3. Create a Travel Itinerary Map\n",
    "\n",
    "----\n",
    "\n",
    "1. Create a folder called `Vacation_Itinerary` to store all the files for this deliverable.\n",
    "\n",
    "2. Download the `Vacation_Itinerary_starter_code.ipynb` file into your `Vacation_Itinerary` folder and rename it `Vacation_Itinerary.ipynb`.\n",
    "\n",
    "3. Make sure the initial dependencies and the Geoapify API key are imported.\n",
    "\n",
    "4. From your `Vacation_Search` folder from Deliverable 2, import the `WeatherPy_vacation.csv` file as a DataFrame named `vacation_df`.\n",
    "\n",
    "5. Use GeoViews to create a map that shows all the cities in the `vacation_df` DataFrame. Configure the map as follows:\n",
    "\n",
    "    * The point's size should be the maximum temperature for the city\n",
    "\n",
    "    * The point's color should be the city's name\n",
    "\n",
    "    * Use the `hover_cols` parameter to the the \"Hotel Name\", \"Country\", and \"Current Description\" columns to each point as additional information.\n",
    "\n",
    "6. From the map, *choose four cities* that a customer might want to visit. They should be close together and in the same country. Use the `loc` method to create separate DataFrames for each city on the travel route.\n",
    "\n",
    "    > **Hint:** You will start and end the route in the same city, so the `vacation_start` and `vacation_end` DataFrames will be in the same city.\n",
    "\n",
    "7. Use the Pandas `concat` function to merge the DataFrame from each city in the itinerary to create a new DataFrame named `itinerary_df` to store the itinerary details.\n",
    "\n",
    "8. Use the Pandas `copy` function to create a new DataFrame named `waypoints_df` to store the longitude and latitude for each city in `itinerary_df`.\n",
    "\n",
    "    > **Hint:** You'll use this DataFrame to create a map using GeoViews, so recall that the first column should be the longitude, and the second the latitude.\n",
    "\n",
    "9. Use GeoViews to create a map that shows the four cities in the itinerary.\n",
    "\n",
    "10. Next, you'll use the Geoapify Routing API to find a route between the cities in the itinerary. Review the code that sets the initial parameters and fetches the coordinates from each city to define the `waypoints` parameter by using a `for` loop.\n",
    "\n",
    "    > **Hint:** You can note that the `mode` parameter is set to `drive`, you can play around with other modes as it's shown in [the \"Travel modes\" table](https://apidocs.geoapify.com/docs/routing/#api) in the Geoapify Routing API documentation.\n",
    "\n",
    "11. Use the Geoapify Routing API to retrieve the route's directions for your itinerary.\n",
    "\n",
    "12. From the JSON response, store the route's legs coordinates in a variable called `legs`.\n",
    "\n",
    "13. Loop through the route legs coordinates to fetch the latitude and longitude for each step. Store the latitude and longitude values into two Python lists named `longitude` and `latitude`.\n",
    "\n",
    "14. Use the `longitude` and `latitude` Python lists to create a new DataFrame named `route_df`.\n",
    "\n",
    "15. Use the GeoViews `Path` function to configure a line plot by using `route_df`. Set a custom color and width for the line that may contrast with the map.\n",
    "\n",
    "16. Use the asterisk operator to display a composed plot that shows the itinerary's route over the map containing the cities. \n",
    "\n",
    "17. Save your map to the `Vacation_Itinerary` folder as `WeatherPy_travel_map.png`.\n",
    "\n",
    "---"
   ]
  },
  {
   "cell_type": "markdown",
   "metadata": {},
   "source": [
    "## Make sure the initial dependencies and the Geoapify API key are imported"
   ]
  },
  {
   "cell_type": "code",
   "execution_count": 8,
   "metadata": {},
   "outputs": [],
   "source": [
    "# Dependencies and Setup\n",
    "import geoviews as gv\n",
    "import hvplot.pandas\n",
    "import pandas as pd\n",
    "import requests\n",
    "# Turn off warning messages\n",
    "import warnings\n",
    "warnings.filterwarnings(\"ignore\")\n",
    "# Import API key\n",
    "from config import geoapify_key"
   ]
  },
  {
   "cell_type": "markdown",
   "metadata": {},
   "source": [
    "## From your `Vacation_Search` folder from Deliverable 2, import the `WeatherPy_vacation.csv` file as a DataFrame named `vacation_df`"
   ]
  },
  {
   "cell_type": "code",
   "execution_count": 9,
   "metadata": {},
   "outputs": [
    {
     "data": {
      "text/html": [
       "<div>\n",
       "<style scoped>\n",
       "    .dataframe tbody tr th:only-of-type {\n",
       "        vertical-align: middle;\n",
       "    }\n",
       "\n",
       "    .dataframe tbody tr th {\n",
       "        vertical-align: top;\n",
       "    }\n",
       "\n",
       "    .dataframe thead th {\n",
       "        text-align: right;\n",
       "    }\n",
       "</style>\n",
       "<table border=\"1\" class=\"dataframe\">\n",
       "  <thead>\n",
       "    <tr style=\"text-align: right;\">\n",
       "      <th></th>\n",
       "      <th>City_ID</th>\n",
       "      <th>City</th>\n",
       "      <th>Country</th>\n",
       "      <th>Max Temp</th>\n",
       "      <th>Weather</th>\n",
       "      <th>Lat</th>\n",
       "      <th>Lng</th>\n",
       "      <th>Hotel Name</th>\n",
       "    </tr>\n",
       "  </thead>\n",
       "  <tbody>\n",
       "    <tr>\n",
       "      <th>0</th>\n",
       "      <td>0</td>\n",
       "      <td>byron bay</td>\n",
       "      <td>AU</td>\n",
       "      <td>79.95</td>\n",
       "      <td>broken clouds</td>\n",
       "      <td>-28.6500</td>\n",
       "      <td>153.6167</td>\n",
       "      <td>Lord Byron Resort</td>\n",
       "    </tr>\n",
       "    <tr>\n",
       "      <th>1</th>\n",
       "      <td>1</td>\n",
       "      <td>punta arenas</td>\n",
       "      <td>CL</td>\n",
       "      <td>53.11</td>\n",
       "      <td>clear sky</td>\n",
       "      <td>-53.1500</td>\n",
       "      <td>-70.9167</td>\n",
       "      <td>Hotel Lacolet</td>\n",
       "    </tr>\n",
       "    <tr>\n",
       "      <th>2</th>\n",
       "      <td>2</td>\n",
       "      <td>faanui</td>\n",
       "      <td>PF</td>\n",
       "      <td>81.16</td>\n",
       "      <td>overcast clouds</td>\n",
       "      <td>-16.4833</td>\n",
       "      <td>-151.7500</td>\n",
       "      <td>Oa Oa Lodge</td>\n",
       "    </tr>\n",
       "    <tr>\n",
       "      <th>3</th>\n",
       "      <td>3</td>\n",
       "      <td>new norfolk</td>\n",
       "      <td>AU</td>\n",
       "      <td>72.72</td>\n",
       "      <td>scattered clouds</td>\n",
       "      <td>-42.7826</td>\n",
       "      <td>147.0587</td>\n",
       "      <td>Woodbridge on the Derwent</td>\n",
       "    </tr>\n",
       "    <tr>\n",
       "      <th>4</th>\n",
       "      <td>4</td>\n",
       "      <td>cayenne</td>\n",
       "      <td>GF</td>\n",
       "      <td>73.44</td>\n",
       "      <td>broken clouds</td>\n",
       "      <td>4.9333</td>\n",
       "      <td>-52.3333</td>\n",
       "      <td>Central Hôtel</td>\n",
       "    </tr>\n",
       "    <tr>\n",
       "      <th>...</th>\n",
       "      <td>...</td>\n",
       "      <td>...</td>\n",
       "      <td>...</td>\n",
       "      <td>...</td>\n",
       "      <td>...</td>\n",
       "      <td>...</td>\n",
       "      <td>...</td>\n",
       "      <td>...</td>\n",
       "    </tr>\n",
       "    <tr>\n",
       "      <th>368</th>\n",
       "      <td>710</td>\n",
       "      <td>oussouye</td>\n",
       "      <td>SN</td>\n",
       "      <td>72.12</td>\n",
       "      <td>broken clouds</td>\n",
       "      <td>12.4850</td>\n",
       "      <td>-16.5469</td>\n",
       "      <td>Campement Alulum</td>\n",
       "    </tr>\n",
       "    <tr>\n",
       "      <th>369</th>\n",
       "      <td>713</td>\n",
       "      <td>sur</td>\n",
       "      <td>OM</td>\n",
       "      <td>67.55</td>\n",
       "      <td>scattered clouds</td>\n",
       "      <td>22.5667</td>\n",
       "      <td>59.5289</td>\n",
       "      <td>Sur Hotel</td>\n",
       "    </tr>\n",
       "    <tr>\n",
       "      <th>370</th>\n",
       "      <td>714</td>\n",
       "      <td>altamont</td>\n",
       "      <td>US</td>\n",
       "      <td>38.89</td>\n",
       "      <td>clear sky</td>\n",
       "      <td>42.2068</td>\n",
       "      <td>-121.7372</td>\n",
       "      <td>Quality Inn</td>\n",
       "    </tr>\n",
       "    <tr>\n",
       "      <th>371</th>\n",
       "      <td>716</td>\n",
       "      <td>dubbo</td>\n",
       "      <td>AU</td>\n",
       "      <td>80.73</td>\n",
       "      <td>scattered clouds</td>\n",
       "      <td>-32.2500</td>\n",
       "      <td>148.6167</td>\n",
       "      <td>Blue Gum Motel</td>\n",
       "    </tr>\n",
       "    <tr>\n",
       "      <th>372</th>\n",
       "      <td>720</td>\n",
       "      <td>san quintin</td>\n",
       "      <td>MX</td>\n",
       "      <td>60.30</td>\n",
       "      <td>overcast clouds</td>\n",
       "      <td>30.4833</td>\n",
       "      <td>-115.9500</td>\n",
       "      <td>Jardines Hotel</td>\n",
       "    </tr>\n",
       "  </tbody>\n",
       "</table>\n",
       "<p>373 rows × 8 columns</p>\n",
       "</div>"
      ],
      "text/plain": [
       "     City_ID          City Country  Max Temp           Weather      Lat  \\\n",
       "0          0     byron bay      AU     79.95     broken clouds -28.6500   \n",
       "1          1  punta arenas      CL     53.11         clear sky -53.1500   \n",
       "2          2        faanui      PF     81.16   overcast clouds -16.4833   \n",
       "3          3   new norfolk      AU     72.72  scattered clouds -42.7826   \n",
       "4          4       cayenne      GF     73.44     broken clouds   4.9333   \n",
       "..       ...           ...     ...       ...               ...      ...   \n",
       "368      710      oussouye      SN     72.12     broken clouds  12.4850   \n",
       "369      713           sur      OM     67.55  scattered clouds  22.5667   \n",
       "370      714      altamont      US     38.89         clear sky  42.2068   \n",
       "371      716         dubbo      AU     80.73  scattered clouds -32.2500   \n",
       "372      720   san quintin      MX     60.30   overcast clouds  30.4833   \n",
       "\n",
       "          Lng                 Hotel Name  \n",
       "0    153.6167          Lord Byron Resort  \n",
       "1    -70.9167              Hotel Lacolet  \n",
       "2   -151.7500                Oa Oa Lodge  \n",
       "3    147.0587  Woodbridge on the Derwent  \n",
       "4    -52.3333              Central Hôtel  \n",
       "..        ...                        ...  \n",
       "368  -16.5469           Campement Alulum  \n",
       "369   59.5289                  Sur Hotel  \n",
       "370 -121.7372                Quality Inn  \n",
       "371  148.6167             Blue Gum Motel  \n",
       "372 -115.9500             Jardines Hotel  \n",
       "\n",
       "[373 rows x 8 columns]"
      ]
     },
     "execution_count": 9,
     "metadata": {},
     "output_type": "execute_result"
    }
   ],
   "source": [
    "# Read the WeatherPy_vacation.csv into a DataFrame\n",
    "vacation_df = pd.read_csv(\"../Vacation_Search/WeatherPy_vacation.csv\")\n",
    "\n",
    "# Display sample data\n",
    "vacation_df"
   ]
  },
  {
   "cell_type": "markdown",
   "metadata": {},
   "source": [
    "## Use GeoViews to create a map that shows all the cities in the `vacation_df` DataFrame. Configure the map as follows:\n",
    "\n",
    "* The point's size should be the maximum temperature for the city\n",
    "\n",
    "* The point's color should be the city's name\n",
    "\n",
    "* Use the `hover_cols` parameter to the the \"Hotel Name\", \"Country\", and \"Current Description\" columns to each point as additional information."
   ]
  },
  {
   "cell_type": "code",
   "execution_count": 12,
   "metadata": {},
   "outputs": [
    {
     "data": {},
     "metadata": {},
     "output_type": "display_data"
    },
    {
     "data": {
      "application/vnd.holoviews_exec.v0+json": "",
      "text/html": [
       "<div id='1679'>\n",
       "  <div class=\"bk-root\" id=\"b7d63536-0a3e-4e18-a005-ac0c51208462\" data-root-id=\"1679\"></div>\n",
       "</div>\n",
       "<script type=\"application/javascript\">(function(root) {\n",
       "  function embed_document(root) {\n",
       "    var docs_json = {\"ba13f469-7849-4100-8491-cead029f63f4\":{\"defs\":[{\"extends\":null,\"module\":null,\"name\":\"ReactiveHTML1\",\"overrides\":[],\"properties\":[]},{\"extends\":null,\"module\":null,\"name\":\"FlexBox1\",\"overrides\":[],\"properties\":[{\"default\":\"flex-start\",\"kind\":null,\"name\":\"align_content\"},{\"default\":\"flex-start\",\"kind\":null,\"name\":\"align_items\"},{\"default\":\"row\",\"kind\":null,\"name\":\"flex_direction\"},{\"default\":\"wrap\",\"kind\":null,\"name\":\"flex_wrap\"},{\"default\":\"flex-start\",\"kind\":null,\"name\":\"justify_content\"}]},{\"extends\":null,\"module\":null,\"name\":\"GridStack1\",\"overrides\":[],\"properties\":[{\"default\":\"warn\",\"kind\":null,\"name\":\"mode\"},{\"default\":null,\"kind\":null,\"name\":\"ncols\"},{\"default\":null,\"kind\":null,\"name\":\"nrows\"},{\"default\":true,\"kind\":null,\"name\":\"allow_resize\"},{\"default\":true,\"kind\":null,\"name\":\"allow_drag\"},{\"default\":[],\"kind\":null,\"name\":\"state\"}]},{\"extends\":null,\"module\":null,\"name\":\"click1\",\"overrides\":[],\"properties\":[{\"default\":\"\",\"kind\":null,\"name\":\"terminal_output\"},{\"default\":\"\",\"kind\":null,\"name\":\"debug_name\"},{\"default\":0,\"kind\":null,\"name\":\"clears\"}]},{\"extends\":null,\"module\":null,\"name\":\"NotificationAreaBase1\",\"overrides\":[],\"properties\":[{\"default\":\"bottom-right\",\"kind\":null,\"name\":\"position\"},{\"default\":0,\"kind\":null,\"name\":\"_clear\"}]},{\"extends\":null,\"module\":null,\"name\":\"NotificationArea1\",\"overrides\":[],\"properties\":[{\"default\":[],\"kind\":null,\"name\":\"notifications\"},{\"default\":\"bottom-right\",\"kind\":null,\"name\":\"position\"},{\"default\":0,\"kind\":null,\"name\":\"_clear\"},{\"default\":[{\"background\":\"#ffc107\",\"icon\":{\"className\":\"fas fa-exclamation-triangle\",\"color\":\"white\",\"tagName\":\"i\"},\"type\":\"warning\"},{\"background\":\"#007bff\",\"icon\":{\"className\":\"fas fa-info-circle\",\"color\":\"white\",\"tagName\":\"i\"},\"type\":\"info\"}],\"kind\":null,\"name\":\"types\"}]},{\"extends\":null,\"module\":null,\"name\":\"Notification\",\"overrides\":[],\"properties\":[{\"default\":null,\"kind\":null,\"name\":\"background\"},{\"default\":3000,\"kind\":null,\"name\":\"duration\"},{\"default\":null,\"kind\":null,\"name\":\"icon\"},{\"default\":\"\",\"kind\":null,\"name\":\"message\"},{\"default\":null,\"kind\":null,\"name\":\"notification_type\"},{\"default\":false,\"kind\":null,\"name\":\"_destroyed\"}]},{\"extends\":null,\"module\":null,\"name\":\"TemplateActions1\",\"overrides\":[],\"properties\":[{\"default\":0,\"kind\":null,\"name\":\"open_modal\"},{\"default\":0,\"kind\":null,\"name\":\"close_modal\"}]},{\"extends\":null,\"module\":null,\"name\":\"MaterialTemplateActions1\",\"overrides\":[],\"properties\":[{\"default\":0,\"kind\":null,\"name\":\"open_modal\"},{\"default\":0,\"kind\":null,\"name\":\"close_modal\"}]}],\"roots\":{\"references\":[{\"attributes\":{\"label\":{\"field\":\"color\"},\"renderers\":[{\"id\":\"1764\"}]},\"id\":\"1773\",\"type\":\"LegendItem\"},{\"attributes\":{\"code\":\"\\n        var projections = Bokeh.require(\\\"core/util/projections\\\");\\n        var x = special_vars.data_x\\n        var y = special_vars.data_y\\n        if (projections.wgs84_mercator.invert == null) {\\n          var coords = projections.wgs84_mercator.inverse([x, y])\\n        } else {\\n          var coords = projections.wgs84_mercator.invert(x, y)\\n        }\\n        return \\\"\\\" + (coords[1]).toFixed(4)\\n    \"},\"id\":\"1775\",\"type\":\"CustomJSHover\"},{\"attributes\":{\"dimension\":\"lon\"},\"id\":\"1725\",\"type\":\"MercatorTickFormatter\"},{\"attributes\":{\"axis\":{\"id\":\"1701\"},\"coordinates\":null,\"grid_line_color\":null,\"group\":null,\"ticker\":null},\"id\":\"1704\",\"type\":\"Grid\"},{\"attributes\":{},\"id\":\"1710\",\"type\":\"PanTool\"},{\"attributes\":{\"coordinates\":null,\"data_source\":{\"id\":\"1756\"},\"glyph\":{\"id\":\"1759\"},\"group\":null,\"hover_glyph\":{\"id\":\"1762\"},\"muted_glyph\":{\"id\":\"1763\"},\"nonselection_glyph\":{\"id\":\"1760\"},\"selection_glyph\":{\"id\":\"1761\"},\"view\":{\"id\":\"1765\"}},\"id\":\"1764\",\"type\":\"GlyphRenderer\"},{\"attributes\":{\"click_policy\":\"mute\",\"coordinates\":null,\"group\":null,\"items\":[{\"id\":\"1773\"}],\"location\":[0,0]},\"id\":\"1772\",\"type\":\"Legend\"},{\"attributes\":{\"axis_label\":\"y\",\"coordinates\":null,\"formatter\":{\"id\":\"1727\"},\"group\":null,\"major_label_policy\":{\"id\":\"1737\"},\"ticker\":{\"id\":\"1726\"}},\"id\":\"1705\",\"type\":\"LinearAxis\"},{\"attributes\":{\"axis\":{\"id\":\"1705\"},\"coordinates\":null,\"dimension\":1,\"grid_line_color\":null,\"group\":null,\"ticker\":null},\"id\":\"1708\",\"type\":\"Grid\"},{\"attributes\":{\"source\":{\"id\":\"1756\"}},\"id\":\"1765\",\"type\":\"CDSView\"},{\"attributes\":{\"children\":[{\"id\":\"1680\"},{\"id\":\"1692\"},{\"id\":\"1782\"}],\"margin\":[0,0,0,0],\"name\":\"Row02267\",\"tags\":[\"embedded\"]},\"id\":\"1679\",\"type\":\"Row\"},{\"attributes\":{\"zoom_on_axis\":false},\"id\":\"1711\",\"type\":\"WheelZoomTool\"},{\"attributes\":{},\"id\":\"1709\",\"type\":\"SaveTool\"},{\"attributes\":{},\"id\":\"1757\",\"type\":\"Selection\"},{\"attributes\":{\"match_aspect\":true,\"overlay\":{\"id\":\"1714\"}},\"id\":\"1712\",\"type\":\"BoxZoomTool\"},{\"attributes\":{\"margin\":[5,5,5,5],\"name\":\"HSpacer02272\",\"sizing_mode\":\"stretch_width\"},\"id\":\"1782\",\"type\":\"Spacer\"},{\"attributes\":{\"data\":{\"City\":[\"byron bay\",\"punta arenas\",\"faanui\",\"new norfolk\",\"cayenne\",\"fortuna\",\"ushuaia\",\"buraydah\",\"vaini\",\"hermanus\",\"puerto ayora\",\"bethel\",\"cape town\",\"chuy\",\"rikitea\",\"shenzhen\",\"gorgan\",\"sampit\",\"mindelo\",\"athabasca\",\"brentwood\",\"ponta do sol\",\"richards bay\",\"santa isabel do rio negro\",\"hilo\",\"westport\",\"lorengau\",\"saint-philippe\",\"hobart\",\"olafsvik\",\"itarema\",\"kodiak\",\"castro\",\"hasaki\",\"bredasdorp\",\"camacha\",\"garowe\",\"puri\",\"klaksvik\",\"port macquarie\",\"kapaa\",\"channel-port aux basques\",\"ilhabela\",\"tual\",\"mahebourg\",\"kihei\",\"atuona\",\"avarua\",\"oneonta\",\"jamestown\",\"souillac\",\"corrales\",\"pisco\",\"mikhaylovka\",\"isangel\",\"marfino\",\"bathsheba\",\"temerloh\",\"plettenberg bay\",\"sorland\",\"quarai\",\"touros\",\"mar del plata\",\"nabire\",\"rio gallegos\",\"mexico\",\"norden\",\"dubuque\",\"hun\",\"grand gaube\",\"champerico\",\"elizabeth city\",\"salta\",\"hithadhoo\",\"ahipara\",\"salalah\",\"maragogi\",\"pacific grove\",\"anapskaya\",\"hurghada\",\"ronne\",\"kosai\",\"mount gambier\",\"shingu\",\"northam\",\"saint george\",\"tefe\",\"havre-saint-pierre\",\"cockburn town\",\"klupci\",\"gibara\",\"margate\",\"kahului\",\"hamilton\",\"killybegs\",\"palmas\",\"lima\",\"la paz\",\"cortes\",\"kenai\",\"rognan\",\"tucuman\",\"geraldton\",\"salas\",\"guerrero negro\",\"benguela\",\"aquiraz\",\"ponta delgada\",\"khvoynaya\",\"bosaso\",\"bengkulu\",\"havoysund\",\"saint-pierre\",\"santa rosa\",\"ankang\",\"alice springs\",\"andilamena\",\"arvika\",\"huarmey\",\"libertador general san martin\",\"pontianak\",\"iisalmi\",\"choszczno\",\"port elizabeth\",\"lira\",\"kjollefjord\",\"manta\",\"marawi\",\"kuala terengganu\",\"houma\",\"hualmay\",\"asyut\",\"victoria\",\"quatre cocos\",\"maceio\",\"ballina\",\"cam ranh\",\"pedernales\",\"cabo san lucas\",\"caravelas\",\"sao filipe\",\"lagoa\",\"bardiyah\",\"peace river\",\"chimbote\",\"winsum\",\"bonito\",\"port-gentil\",\"husavik\",\"san fernando\",\"lewiston\",\"cidreira\",\"chateaudun\",\"bhubaneswar\",\"sechura\",\"haines junction\",\"jambi\",\"antofagasta\",\"sao joao da barra\",\"broken hill\",\"dunedin\",\"mabaruma\",\"pierre\",\"rauma\",\"laurel\",\"spalene porici\",\"williamsburg\",\"quchan\",\"lusaka\",\"panama city\",\"altagracia de orituco\",\"nago\",\"paita\",\"karratha\",\"bonham\",\"saint paul\",\"chingola\",\"montepuez\",\"joacaba\",\"nouadhibou\",\"kendari\",\"jeremie\",\"coquimbo\",\"mehamn\",\"ancud\",\"port hedland\",\"dawei\",\"portland\",\"severo-kurilsk\",\"balingasay\",\"saldanha\",\"mareeba\",\"hervey bay\",\"vardo\",\"jackson\",\"marsabit\",\"quelimane\",\"nemuro\",\"dumbraveni\",\"laguna\",\"sorong\",\"riyadh\",\"taperoa\",\"clovis\",\"paea\",\"parana\",\"belaya glina\",\"starkville\",\"luanda\",\"north bend\",\"oliver\",\"nishihara\",\"taltal\",\"abengourou\",\"tabou\",\"nyimba\",\"san cristobal\",\"jatai\",\"quang ngai\",\"lompoc\",\"hasuda\",\"sterling\",\"masterton\",\"hofn\",\"havelock\",\"santiago del estero\",\"te anau\",\"ilinskiy\",\"dargaville\",\"smithfield\",\"naivasha\",\"syracuse\",\"alcudia\",\"grindavik\",\"namatanai\",\"jumla\",\"ayorou\",\"sept-iles\",\"hisar\",\"moberly\",\"lithgow\",\"gloversville\",\"kalmunai\",\"shimoda\",\"constitucion\",\"paris\",\"canmore\",\"sambava\",\"praia da vitoria\",\"angoche\",\"yeppoon\",\"ndjole\",\"tabuk\",\"jalu\",\"katsuura\",\"kupang\",\"atar\",\"escanaba\",\"pitimbu\",\"vallenar\",\"santa fe\",\"mandera\",\"the valley\",\"saint peter\",\"kisangani\",\"kavieng\",\"sukhumi\",\"casper\",\"lakes entrance\",\"liberal\",\"porto santo\",\"williams lake\",\"kloulklubed\",\"trelew\",\"marystown\",\"musoma\",\"mahajanga\",\"ocala\",\"pinawa\",\"port lincoln\",\"mayumba\",\"vila velha\",\"gladstone\",\"aksum\",\"georgetown\",\"aspindza\",\"iwaki\",\"sfantu gheorghe\",\"copiapo\",\"rocha\",\"nizwa\",\"inongo\",\"vangaindrano\",\"esperance\",\"irondequoit\",\"nong ki\",\"mogadishu\",\"kesova gora\",\"tongren\",\"along\",\"san juan\",\"fairmont\",\"xinxiang\",\"lodwar\",\"yanliang\",\"craig\",\"eldorado\",\"deyang\",\"sitka\",\"hachinohe\",\"peniche\",\"biltine\",\"banda aceh\",\"bundaberg\",\"redlands\",\"bismarck\",\"kauhajoki\",\"calabozo\",\"moerai\",\"vao\",\"launceston\",\"morondava\",\"kuah\",\"port blair\",\"half moon bay\",\"boksitogorsk\",\"moose factory\",\"gonbad-e qabus\",\"nanyuki\",\"tromso\",\"ikungi\",\"los llanos de aridane\",\"alfenas\",\"muros\",\"hong gai\",\"marsh harbour\",\"coffs harbour\",\"eureka\",\"saint-leu\",\"saint anthony\",\"nova bystrice\",\"namibe\",\"sioux lookout\",\"moron\",\"kuryk\",\"pangkalanbuun\",\"aberdeen\",\"soyo\",\"tudela\",\"kita\",\"banjar\",\"jacareacanga\",\"pokhara\",\"tanete\",\"lasa\",\"campbell river\",\"maumere\",\"karoi\",\"sistranda\",\"yazman\",\"goderich\",\"skjervoy\",\"fort-shevchenko\",\"ushibuka\",\"arona\",\"laguna de perlas\",\"monfalcone\",\"new bern\",\"oussouye\",\"sur\",\"altamont\",\"dubbo\",\"san quintin\"],\"Country\":[\"AU\",\"CL\",\"PF\",\"AU\",\"GF\",\"US\",\"AR\",\"SA\",\"TO\",\"ZA\",\"EC\",\"US\",\"ZA\",\"UY\",\"PF\",\"CN\",\"IR\",\"ID\",\"CV\",\"CA\",\"US\",\"PT\",\"ZA\",\"BR\",\"US\",\"US\",\"PG\",\"RE\",\"AU\",\"IS\",\"BR\",\"US\",\"BR\",\"JP\",\"ZA\",\"PT\",\"SO\",\"IN\",\"FO\",\"AU\",\"US\",\"CA\",\"BR\",\"ID\",\"MU\",\"US\",\"PF\",\"CK\",\"US\",\"US\",\"MU\",\"US\",\"PE\",\"RU\",\"VU\",\"RU\",\"BB\",\"MY\",\"ZA\",\"NO\",\"BR\",\"BR\",\"AR\",\"ID\",\"AR\",\"PH\",\"DE\",\"US\",\"LY\",\"MU\",\"GT\",\"US\",\"AR\",\"MV\",\"NZ\",\"OM\",\"BR\",\"US\",\"RU\",\"EG\",\"DK\",\"JP\",\"AU\",\"JP\",\"GB\",\"US\",\"BR\",\"CA\",\"TC\",\"RS\",\"CU\",\"GB\",\"US\",\"US\",\"IE\",\"BR\",\"PE\",\"BO\",\"ES\",\"US\",\"NO\",\"AR\",\"AU\",\"ES\",\"MX\",\"AO\",\"BR\",\"PT\",\"RU\",\"SO\",\"ID\",\"NO\",\"RE\",\"PH\",\"CN\",\"AU\",\"MG\",\"SE\",\"PE\",\"AR\",\"ID\",\"FI\",\"PL\",\"ZA\",\"UG\",\"NO\",\"EC\",\"PH\",\"MY\",\"US\",\"PE\",\"EG\",\"HK\",\"MU\",\"BR\",\"AU\",\"VN\",\"DO\",\"MX\",\"BR\",\"CV\",\"PT\",\"LY\",\"CA\",\"PE\",\"NL\",\"BR\",\"GA\",\"IS\",\"PH\",\"US\",\"BR\",\"FR\",\"IN\",\"PE\",\"CA\",\"ID\",\"CL\",\"BR\",\"AU\",\"NZ\",\"GY\",\"US\",\"FI\",\"US\",\"CZ\",\"US\",\"IR\",\"ZM\",\"PA\",\"VE\",\"JP\",\"PE\",\"AU\",\"US\",\"US\",\"ZM\",\"MZ\",\"BR\",\"MR\",\"ID\",\"HT\",\"CL\",\"NO\",\"CL\",\"AU\",\"MM\",\"US\",\"RU\",\"PH\",\"ZA\",\"AU\",\"AU\",\"NO\",\"US\",\"KE\",\"MZ\",\"JP\",\"RO\",\"US\",\"ID\",\"SA\",\"BR\",\"US\",\"PF\",\"AR\",\"RU\",\"US\",\"AO\",\"US\",\"CA\",\"JP\",\"CL\",\"CI\",\"CI\",\"ZM\",\"VE\",\"BR\",\"VN\",\"US\",\"JP\",\"US\",\"NZ\",\"IS\",\"US\",\"AR\",\"NZ\",\"RU\",\"NZ\",\"US\",\"KE\",\"IT\",\"ES\",\"IS\",\"PG\",\"NP\",\"NE\",\"CA\",\"IN\",\"US\",\"AU\",\"US\",\"LK\",\"JP\",\"CL\",\"FR\",\"CA\",\"MG\",\"PT\",\"MZ\",\"AU\",\"GA\",\"PH\",\"LY\",\"JP\",\"ID\",\"MR\",\"US\",\"BR\",\"CL\",\"AR\",\"KE\",\"AI\",\"BB\",\"CD\",\"PG\",\"GE\",\"US\",\"AU\",\"US\",\"PT\",\"CA\",\"PW\",\"AR\",\"CA\",\"TZ\",\"MG\",\"US\",\"CA\",\"AU\",\"GA\",\"BR\",\"AU\",\"ET\",\"MY\",\"GE\",\"JP\",\"RO\",\"CL\",\"UY\",\"OM\",\"CD\",\"MG\",\"AU\",\"US\",\"TH\",\"SO\",\"RU\",\"CN\",\"IN\",\"AR\",\"US\",\"CN\",\"KE\",\"CN\",\"US\",\"BR\",\"CN\",\"US\",\"JP\",\"PT\",\"TD\",\"ID\",\"AU\",\"US\",\"US\",\"FI\",\"VE\",\"PF\",\"NC\",\"AU\",\"MG\",\"MY\",\"IN\",\"US\",\"RU\",\"CA\",\"IR\",\"KE\",\"NO\",\"TZ\",\"ES\",\"BR\",\"ES\",\"VN\",\"BS\",\"AU\",\"US\",\"RE\",\"US\",\"CZ\",\"AO\",\"CA\",\"AR\",\"KZ\",\"ID\",\"GB\",\"AO\",\"ES\",\"ML\",\"ID\",\"BR\",\"NP\",\"ID\",\"IT\",\"CA\",\"ID\",\"ZW\",\"NO\",\"PK\",\"CA\",\"NO\",\"KZ\",\"JP\",\"ES\",\"NI\",\"IT\",\"US\",\"SN\",\"OM\",\"US\",\"AU\",\"MX\"],\"Hotel_Name\":[\"Lord Byron Resort\",\"Hotel Lacolet\",\"Oa Oa Lodge\",\"Woodbridge on the Derwent\",\"Central H\\u00f4tel\",\"Comfort Inn & Suites Redwood Country\",\"Apart Hotel Aires del Beagle\",\"\\u062f\\u0646\\u0627 \\u0644\\u0644\\u0648\\u062d\\u062f\\u0627\\u062a \\u0627\\u0644\\u0633\\u0643\\u0646\\u064a\\u0629\",\"Keleti International Resort\",\"Aloe guest house\",\"Hostal La Mirada De Solitario George\",\"Hampton Inn Danbury\",\"Townhouse Hotel\",\"Alerces\",\"Chez Bianca & Benoit\",\"Shenzhen International Elite Hotel\",\"\\u0647\\u062a\\u0644 \\u062e\\u06cc\\u0627\\u0645\",\"Hotel Sultan\",\"Solar Windelo\",\"Grand Union Hotel\",\"Radisson Hotel Hauppauge-Long Island\",\"Estalagem Ponta do Sol\",\"Protea Hotel\",\"Hotel Maikon\",\"Dolphin Bay Hotel\",\"Norwalk Inn and Conference Center\",\"Seeadler Bay Hotel\",\"Le Baril\",\"Vibe Hotel Hobart\",\"North Star Hotel Sn\\u00e6fellsnes\",\"Pousada O\\u00e1sis\",\"Shelikof Lodge\",\"Hotel Central Palace\",\"\\u5927\\u65b0\\u65c5\\u9928\",\"Victoria Hotel\",\"Praia Dourada\",\"Red Sea\",\"Divine Beach Homestay\",\"Hotel Klaksvik\",\"The Observatory\",\"Pono Kai Resort\",\"St. Christopher's Hotel\",\"Vila Kebaya\",\"Suita\",\"Grand Bel Air\",\"Maui Beach Resort\",\"Pearl Resort\",\"Paradise Inn\",\"Courtyard by Marriott Oneonta\",\"DoubleTree Jamestown\",\"Hotel SkylineInn\",\"Days Inn by Wyndham Rio Rancho\",\"La Portada\",\"\\u0414\\u0440\\u0443\\u0436\\u0431\\u0430\",\"Tanna Lodge\",\"\\u041c\\u043e\\u0436\\u0430\\u0439\\u0441\\u043a\\u0430\\u044f\",\"Atlantis Hotel\",\"Hotel Jelai\",\"Milkwood Manor\",\"Fagmek Resorts\",\"Hotel Uni\\u00e3o\",\"Pousada Atl\\u00e2ntico\",\"Nuevo Ostende\",\"Hotel Anggrek\",\"Am\\u00e9rian R\\u00edo Gallegos Apart & Suites\",\"Buena Amore Hotel\",\"Hotel Ostfriesland\",\"American Inn and Suites\",\"\\u0641\\u0646\\u062f\\u0642 \\u0627\\u0644\\u0647\\u0631\\u0648\\u062c\",\"Coco Villa\",\"Hotel y Restaurante El Submarino\",\"Quality Inn\",\"Ayres de Salta Hotel\",\"Pebbles Inn\",\"YHA Ahipara\",\"Muscat International Hotel\",\"Pousada Mariluz\",\"Pacific Grove Inn\",\"Red Hotel\",\"Sea Horse Hotel\",\"Det gamle posthus\",\"\\u30eb\\u30fc\\u30c8\\u30a4\\u30f3\",\"The Old Mount Gambier Gaol\",\"\\u30db\\u30c6\\u30eb\\u30cb\\u30e5\\u30fc\\u30d1\\u30ec\\u30b9\",\"Durrant House Hotel\",\"The Advenire, an Autograph Collection Hotel\",\"Hotel Montecarlo\",\"Complexe MV\",\"The Salt Raker Inn\",\"Stobex\",\"Plaza Col\\u00f3n\",\"The Reading Rooms\",\"Maui Seaside Hotel\",\"North Vista Manor\",\"Bay View Hotel\",\"Hotel Tri\\u00e2ngulo Mineiro\",\"Hotel Peach Garden\",\"Alojamiento Tokio\",\"Casa rural El Talon del Rey\",\"Beluga Lookout Hotel\",\"Rognan hotell\",\"Suites San Luis\",\"Ocean Centre Hotel\",\"Castillo de Vald\\u00e9s-Salas\",\"Plaza sal paraiso\",\"Hotel Moibela\",\"Pousada tia Fab\\u00edola\",\"Hotel Talisman\",\"\\u0413\\u043e\\u0441\\u0442\\u0438\\u043d\\u0438\\u0446\\u0430 (2\\u0439 \\u044d\\u0442\\u0430\\u0436)\",\"Bosaso hotel\",\"Dena Hotel\",\"Hav\\u00f8ysund Hotell\",\"Tropic Hotel\",\"JARS RESORT\",\"\\u91d1\\u53cb\\u5546\\u52a1\\u9152\\u5e97\",\"Aurora Alice Springs\",\"Hotely Magic\",\"Jennys Hotell och restaurang\",\"Hostal Santa Rosa\",\"Hosteria Real Victoria\",\"Golden Tulip Hotel\",\"Original Sokos Hotel Koljonvirta\",\"Hostel\",\"Waterford Hotel\",\"Pauline Hotel\",\"Hotel Nordkyn\",\"La Gaviota\",\"Marawi Resort Hotel\",\"Uncle Homestay\",\"Courtyard by Marriott Houma\",\"Hotel Mi Choacan\",\"\\u0641\\u0646\\u062f\\u0642 \\u0627\\u0644\\u062d\\u0633\\u064a\\u0646\",\"\\u56db\\u5b63\\u9152\\u5e97 Four Seasons Hotel\",\"Horisun\",\"Macei\\u00f3 Hostel e Pousada\",\"Ballina Beach Resort\",\"Kh\\u00e1ch s\\u1ea1n Th\\u00e1i B\\u00ecnh\",\"Hostal Do\\u00f1a Chava\",\"Comfort Rooms\",\"Pousada dos Navegantes\",\"Bela Vista\",\"Casa da Madrinha\",\"\\u0641\\u0646\\u062f\\u0642 \\u0627\\u0644\\u0628\\u0631\\u062f\\u064a\",\"New Ridge Inn\",\"Hostal Diamante Chimbote\",\"Bedstee hotel Marenland\",\"Hotel Pousada Arauna\",\"Tara-M\\u00e9\",\"Fossh\\u00f3tel H\\u00fasav\\u00edk\",\"Pampanga Lodge and Restaurant\",\"Hampton\",\"Hotel Castelo\",\"Ibis Budget Chateaudun\",\"Airport Park Villa\",\"Hospedaje Claritza\",\"Parkside Inn\",\"Hotel Odua Weston Jambi\",\"Hotel Col\\u00f3n\",\"Pousada Mediterr\\u00e2neo\",\"Ibis Styles\",\"Scenic Hotel Dunedin City\",\"Monty Brooms Hotel\",\"Quality Inn\",\"Hotelli Vanha Rauma\",\"Quality Inn & Suites\",\"Hotel Pod Kok\\u0161\\u00ednem\",\"Fife & Drum Inn Suites\",\"\\u0647\\u062a\\u0644 \\u062e\\u06cc\\u0627\\u0645\",\"Lusaka Grand Hotel\",\"Hostal Familiar Carmencita\",\"Hotel El Canastro\",\"\\u767d\\u6d5c\",\"Victor's\",\"Karratha International Hotel\",\"Holiday Inn\",\"Crowne Plaza\",\"Protea Hotel\",\"Complexo Messalo\",\"Hotel Jaragu\\u00e1\",\"Hotel valencia\",\"City Hotel Kendari\",\"Delivrance Hotel\",\"Hotel Iberia\",\"Mehamn Arctic hotell\",\"Caba\\u00f1as\",\"The Esplanade Hotel\",\"Royal Dawei \\u101f\\u102d\\u102f\\u1010\\u101a\\u103a\",\"the Hoxton\",\"\\\"\\u0414\\u043e\\u043c \\u0440\\u044b\\u0431\\u0430\\u043a\\u0430\\\"\",\"Ramos Beach Resort\",\"Hoedjesbaai\",\"The Gateway Hotel\",\"Hervey Bay Hotel\",\"Meieriet\",\"Brookside\",\"Chicho Hotel\",\"Mabassa\",\"\\u30a4\\u30fc\\u30b9\\u30c8\\u30cf\\u30fc\\u30d0\\u30fc\\u30db\\u30c6\\u30eb\",\"Hotel Mario\",\"Holiday Inn Express & Suites\",\"Hotel Membramo Marina\",\"White Palace Hotel\",\"Hotel Casar\\u00e3o\",\"BEST WESTERN Clovis Cole\",\"Taaroa Lodge\",\"Grand Hotel Alvear\",\"\\u041d\\u0438\\u0432\\u0430\",\"Days Inn\",\"Hotel Forum\",\"The Mill Casino Hotel\",\"Coast Oliver Hotel\",\"\\u30e6\\u30a4\\u30f3\\u30c1\\u30db\\u30c6\\u30eb\\u5357\\u57ce\",\"Hoster\\u00eda Taltal\",\"Relief\",\"h\\u00f4tel le rochet\",\"Dalitso Guesthouse\",\"Terra Sur\",\"Hotel Rio Claro\",\"Ngoc Anh\",\"Embassy Suites by Hilton Lompoc Central Coast\",\"\\u3080\\u3055\\u3057\\u306e\\u30b0\\u30e9\\u30f3\\u30c9\\u30db\\u30c6\\u30eb&\\u30b9\\u30d1\",\"Residence Inn by Marriott Dulles Airport at Dulles 28 Centre\",\"Copthorne Hotel Solway Park\",\"Guesthouse Dyngja\",\"Quality Inn Havelock Hwy 70\",\"Nuevo Hotel Br\\u00edstol\",\"Lakeside Motels & Apartments\",\"\\u0417\\u043e\\u0434\\u0438\\u0430\\u043a\",\"Central Hotel\",\"Holiday Inn Express & Suites Smithfield\",\"Supa Lodge\",\"Hotel Panorama\",\"Can Mostatxins\",\"The Retreat at Blue Lagoon Iceland\",\"Namatanai Hotel\",\"Amar Sandesh Guesthouse\",\"Hotel Aminokal\",\"Ch\\u00e2teau Arnaud\",\"OYO Mid City Hotel\",\"Super 8 by Wyndham Moberly MO\",\"Grand Central Hotel\",\"Holiday Inn\",\"Saji new food\",\"\\u30db\\u30c6\\u30eb\\u30a6\\u30e9\\u30ac\",\"Hostal Alameda\",\"H\\u00f4tel Esmerelda\",\"Mountain View Inn\",\"Royal Sava H\\u00f4tel\",\"Salles\",\"Hotel Quirimbas\",\"Blossom's on Seaspray\",\"Motel Kedyann\",\"Davidson Hotel\",\"\\u0641\\u0646\\u062f\\u0642 \\u062c\\u0627\\u0644\\u0648 \\u0627\\u0644\\u0633\\u064a\\u0627\\u062d\\u064a\",\"\\u6f6e\\u9a12\\u306e\\u5bbf\",\"BIB & LANG GUEST HOUSE\",\"\\u0641\\u0646\\u062f\\u0642 \\u0633\\u0643\\u0644\\u064a\\u0644\",\"Magnuson Grand Pioneer Inn and Suites\",\"Pousada Brisa Mar\",\"Hotel del Marqu\\u00e9s\",\"Intersur Hotel\",\"Kornesh Hotel and Lodging\",\"CeBlue\",\"Ancient Grove\",\"Le Chalet\",\"Kavieng Hotel\",\"\\u041c\\u043e\\u043d\\u044d\",\"Days Inn by Wyndham Casper\",\"Banjo Patterson Motor Inn\",\"Days Inn\",\"Praia Dourada\",\"Coast Fraser Inn\",\"The Adventures Inn\",\"Patagonia Suites & Apart\",\"Marystown Hotel & Convention Centre\",\"New Peninsula Hotel\",\"Vahiny Hotel\",\"Hilton Garden Inn\",\"Pinawa Motor Inn\",\"Boston Hotel\",\"R\\u00e9sidence H\\u00f4teli\\u00e8re Fabso\",\"Hotel Prainha\",\"Gladstone Downtown Central\",\"Delina Hotel\",\"Page 63 hostel\",\"Atas Erti Ghame\",\"Iwaki Prince Hotel\",\"Hotel Park\",\"Hotel Il Riposo\",\"Hotel Municipal\",\"Nizwa Heritage Inn\",\"Chez LELE IYOLO\",\"Fanilo\",\"Hospitality\",\"Hampton\",\"resort\",\"SYL Hotel\",\"\\u0413\\u043e\\u0441\\u0442\\u0438\\u043d\\u0438\\u0446\\u0430 \\u041a\\u0435\\u0441\\u043e\\u0432\\u0430 \\u0413\\u043e\\u0440\\u0430\",\"\\u95fd \\u5546\\u5927 \\u9152 \\u5e97\",\"Hotel Toshi Palace\",\"Hotel San Francisco\",\"Clarion Inn\",\"\\u51ef\\u60a6\\u9152\\u5e97\",\"Lodwar Modern Lodge\",\"Jinjiang\",\"Quality Inn & Suites\",\"Hotel La\\u00e7ador\",\"\\u6021\\u5bb6\\u4e3d\\u666f\\u9152\\u5e97\",\"Aspen Suites Hotel\",\"\\u30b9\\u30fc\\u30d1\\u30fc\\u30db\\u30c6\\u30eb\",\"Residencial Maciel\",\"\\u0641\\u0646\\u062f\\u0642 \\u062b\\u0644\\u0627\\u062b \\u0646\\u062c\\u0648\\u0645 \\u0628\\u0644\\u062a\\u0646\",\"Hotel 61\",\"Young Australian Hotel\",\"Ayres Hotel Redlands\",\"Radisson Hotel Bismarck\",\"Kauhajoen Krouvi\",\"Hotel Plaza Real\",\"Manotel Rurutu\",\"Nataiwatch\",\"Hotel Charles\",\"Hotel Sharon Menabe\",\"Langkawi Budget Inn\",\"Andaman Ocean Breeze\",\"Half Moon Bay Inn\",\"\\u041c\\u0435\\u0442\\u0430\\u043b\\u043b\\u0443\\u0440\\u0433\",\"Cree Village Ecolodge\",\"\\u0647\\u062a\\u0644 \\u0642\\u0627\\u0628\\u0648\\u0633\",\"Ibis Hotel\",\"Clarion Collection Hotel Aurora\",\"Safina Lodge\",\"Valle Aridane\",\"Hotel JS\",\"Pensi\\u00f3n R\\u00eda de Muros\",\"Koc moc\",\"Lofty Fig Villas\",\"The Coast Hotel\",\"Eureka Inn, Trademark Collection by Wyndham\",\"Iloha Seaview H\\u00f4tel\",\"Delta Hotels by Marriott\",\"Hotel Fogl\",\"Hotel Chik Chik Namibe\",\"Wellington Inn & Restaurant\",\"La Esquina\",\"Kuryk\",\"Hotel Tiara\",\"Jurys Inn\",\"Hotel Maria Teres\",\"Hostal Remigio\",\"Hotel Chats Rouges\",\"Villa Banjar Beach\",\"Hotel S\\u00e3o Cristov\\u00e3o\",\"Hotel Annapurna View Sarangkot\",\"Hotel grand Sidny\",\"Hotel \\\"Drei Kreuz\\\"\",\"Comfort Inn & Suites\",\"Bogor\",\"The Champion Lodge\",\"Hotell Fr\\u00f8ya\",\"Yazman Banquet Marriage Hall\",\"Hotel Bedford\",\"Hotel Maritim Skjerv\\u00f8y\",\"Akku\",\"Hotel Harbor Inn\",\"Hotel Rural La Correa\",\"Hotelito Bella Vista;Western Union\",\"Hotel al gelso\",\"DoubleTree by Hilton\",\"Campement Alulum\",\"Sur Hotel\",\"Quality Inn\",\"Blue Gum Motel\",\"Jardines Hotel\"],\"Lat\":{\"__ndarray__\":\"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\",\"dtype\":\"float64\",\"order\":\"little\",\"shape\":[373]},\"Lng\":{\"__ndarray__\":\"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\",\"dtype\":\"float64\",\"order\":\"little\",\"shape\":[373]},\"Max_Temp\":{\"__ndarray__\":\"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\",\"dtype\":\"float64\",\"order\":\"little\",\"shape\":[373]},\"Weather\":[\"broken clouds\",\"clear sky\",\"overcast clouds\",\"scattered clouds\",\"broken clouds\",\"scattered clouds\",\"scattered clouds\",\"overcast clouds\",\"broken clouds\",\"broken clouds\",\"broken clouds\",\"clear sky\",\"scattered clouds\",\"clear sky\",\"clear sky\",\"overcast clouds\",\"overcast clouds\",\"overcast clouds\",\"overcast clouds\",\"overcast clouds\",\"broken clouds\",\"scattered clouds\",\"broken clouds\",\"light rain\",\"clear sky\",\"broken clouds\",\"overcast clouds\",\"scattered clouds\",\"broken clouds\",\"broken clouds\",\"overcast clouds\",\"light rain\",\"light rain\",\"overcast clouds\",\"light rain\",\"broken clouds\",\"clear sky\",\"clear sky\",\"light snow\",\"broken clouds\",\"clear sky\",\"light rain\",\"scattered clouds\",\"overcast clouds\",\"broken clouds\",\"scattered clouds\",\"overcast clouds\",\"clear sky\",\"clear sky\",\"clear sky\",\"broken clouds\",\"overcast clouds\",\"scattered clouds\",\"light snow\",\"broken clouds\",\"mist\",\"clear sky\",\"broken clouds\",\"overcast clouds\",\"broken clouds\",\"clear sky\",\"broken clouds\",\"few clouds\",\"overcast clouds\",\"broken clouds\",\"overcast clouds\",\"light rain\",\"mist\",\"clear sky\",\"scattered clouds\",\"few clouds\",\"overcast clouds\",\"overcast clouds\",\"few clouds\",\"clear sky\",\"broken clouds\",\"overcast clouds\",\"broken clouds\",\"few clouds\",\"clear sky\",\"broken clouds\",\"scattered clouds\",\"broken clouds\",\"clear sky\",\"broken clouds\",\"clear sky\",\"overcast clouds\",\"snow\",\"clear sky\",\"overcast clouds\",\"clear sky\",\"scattered clouds\",\"scattered clouds\",\"overcast clouds\",\"overcast clouds\",\"scattered clouds\",\"clear sky\",\"scattered clouds\",\"overcast clouds\",\"overcast clouds\",\"overcast clouds\",\"broken clouds\",\"clear sky\",\"light rain\",\"broken clouds\",\"overcast clouds\",\"overcast clouds\",\"broken clouds\",\"overcast clouds\",\"few clouds\",\"overcast clouds\",\"light snow\",\"clear sky\",\"overcast clouds\",\"broken clouds\",\"clear sky\",\"broken clouds\",\"overcast clouds\",\"broken clouds\",\"overcast clouds\",\"overcast clouds\",\"overcast clouds\",\"overcast clouds\",\"overcast clouds\",\"broken clouds\",\"scattered clouds\",\"broken clouds\",\"overcast clouds\",\"scattered clouds\",\"overcast clouds\",\"broken clouds\",\"clear sky\",\"overcast clouds\",\"broken clouds\",\"overcast clouds\",\"broken clouds\",\"broken clouds\",\"scattered clouds\",\"few clouds\",\"broken clouds\",\"overcast clouds\",\"broken clouds\",\"clear sky\",\"overcast clouds\",\"broken clouds\",\"heavy intensity rain\",\"broken clouds\",\"overcast clouds\",\"snow\",\"overcast clouds\",\"overcast clouds\",\"overcast clouds\",\"broken clouds\",\"mist\",\"broken clouds\",\"overcast clouds\",\"moderate rain\",\"clear sky\",\"clear sky\",\"clear sky\",\"broken clouds\",\"scattered clouds\",\"overcast clouds\",\"scattered clouds\",\"clear sky\",\"overcast clouds\",\"clear sky\",\"few clouds\",\"moderate rain\",\"overcast clouds\",\"few clouds\",\"overcast clouds\",\"scattered clouds\",\"broken clouds\",\"clear sky\",\"snow\",\"light rain\",\"light rain\",\"broken clouds\",\"overcast clouds\",\"light rain\",\"few clouds\",\"few clouds\",\"scattered clouds\",\"broken clouds\",\"broken clouds\",\"clear sky\",\"scattered clouds\",\"broken clouds\",\"overcast clouds\",\"clear sky\",\"overcast clouds\",\"light rain\",\"overcast clouds\",\"overcast clouds\",\"broken clouds\",\"overcast clouds\",\"broken clouds\",\"overcast clouds\",\"clear sky\",\"overcast clouds\",\"scattered clouds\",\"overcast clouds\",\"mist\",\"broken clouds\",\"clear sky\",\"clear sky\",\"overcast clouds\",\"overcast clouds\",\"clear sky\",\"overcast clouds\",\"few clouds\",\"few clouds\",\"clear sky\",\"few clouds\",\"overcast clouds\",\"broken clouds\",\"light rain\",\"overcast clouds\",\"broken clouds\",\"scattered clouds\",\"broken clouds\",\"few clouds\",\"overcast clouds\",\"overcast clouds\",\"clear sky\",\"clear sky\",\"light snow\",\"few clouds\",\"overcast clouds\",\"clear sky\",\"broken clouds\",\"overcast clouds\",\"scattered clouds\",\"light rain\",\"clear sky\",\"broken clouds\",\"light rain\",\"clear sky\",\"clear sky\",\"broken clouds\",\"clear sky\",\"broken clouds\",\"overcast clouds\",\"scattered clouds\",\"clear sky\",\"broken clouds\",\"light rain\",\"broken clouds\",\"light rain\",\"overcast clouds\",\"overcast clouds\",\"overcast clouds\",\"clear sky\",\"broken clouds\",\"overcast clouds\",\"overcast clouds\",\"snow\",\"overcast clouds\",\"clear sky\",\"light rain\",\"overcast clouds\",\"clear sky\",\"clear sky\",\"broken clouds\",\"light rain\",\"clear sky\",\"clear sky\",\"clear sky\",\"clear sky\",\"broken clouds\",\"overcast clouds\",\"overcast clouds\",\"broken clouds\",\"light rain\",\"overcast clouds\",\"few clouds\",\"clear sky\",\"overcast clouds\",\"moderate rain\",\"moderate rain\",\"scattered clouds\",\"light rain\",\"scattered clouds\",\"few clouds\",\"overcast clouds\",\"clear sky\",\"overcast clouds\",\"clear sky\",\"clear sky\",\"broken clouds\",\"overcast clouds\",\"light rain\",\"scattered clouds\",\"scattered clouds\",\"clear sky\",\"clear sky\",\"overcast clouds\",\"overcast clouds\",\"overcast clouds\",\"overcast clouds\",\"overcast clouds\",\"broken clouds\",\"scattered clouds\",\"overcast clouds\",\"overcast clouds\",\"broken clouds\",\"broken clouds\",\"light rain\",\"broken clouds\",\"overcast clouds\",\"broken clouds\",\"overcast clouds\",\"light rain\",\"broken clouds\",\"mist\",\"broken clouds\",\"few clouds\",\"light rain\",\"overcast clouds\",\"overcast clouds\",\"few clouds\",\"few clouds\",\"mist\",\"haze\",\"overcast clouds\",\"overcast clouds\",\"broken clouds\",\"few clouds\",\"light snow\",\"overcast clouds\",\"few clouds\",\"light rain\",\"overcast clouds\",\"overcast clouds\",\"clear sky\",\"scattered clouds\",\"overcast clouds\",\"broken clouds\",\"snow\",\"overcast clouds\",\"overcast clouds\",\"mist\",\"scattered clouds\",\"overcast clouds\",\"overcast clouds\",\"few clouds\",\"overcast clouds\",\"overcast clouds\",\"few clouds\",\"overcast clouds\",\"overcast clouds\",\"clear sky\",\"overcast clouds\",\"light snow\",\"mist\",\"overcast clouds\",\"overcast clouds\",\"few clouds\",\"clear sky\",\"overcast clouds\",\"overcast clouds\",\"broken clouds\",\"broken clouds\",\"few clouds\",\"few clouds\",\"broken clouds\",\"clear sky\",\"broken clouds\",\"scattered clouds\",\"clear sky\",\"scattered clouds\",\"overcast clouds\"],\"color\":[\"byron bay\",\"punta arenas\",\"faanui\",\"new norfolk\",\"cayenne\",\"fortuna\",\"ushuaia\",\"buraydah\",\"vaini\",\"hermanus\",\"puerto ayora\",\"bethel\",\"cape town\",\"chuy\",\"rikitea\",\"shenzhen\",\"gorgan\",\"sampit\",\"mindelo\",\"athabasca\",\"brentwood\",\"ponta do sol\",\"richards bay\",\"santa isabel do rio negro\",\"hilo\",\"westport\",\"lorengau\",\"saint-philippe\",\"hobart\",\"olafsvik\",\"itarema\",\"kodiak\",\"castro\",\"hasaki\",\"bredasdorp\",\"camacha\",\"garowe\",\"puri\",\"klaksvik\",\"port macquarie\",\"kapaa\",\"channel-port aux basques\",\"ilhabela\",\"tual\",\"mahebourg\",\"kihei\",\"atuona\",\"avarua\",\"oneonta\",\"jamestown\",\"souillac\",\"corrales\",\"pisco\",\"mikhaylovka\",\"isangel\",\"marfino\",\"bathsheba\",\"temerloh\",\"plettenberg bay\",\"sorland\",\"quarai\",\"touros\",\"mar del plata\",\"nabire\",\"rio gallegos\",\"mexico\",\"norden\",\"dubuque\",\"hun\",\"grand gaube\",\"champerico\",\"elizabeth city\",\"salta\",\"hithadhoo\",\"ahipara\",\"salalah\",\"maragogi\",\"pacific grove\",\"anapskaya\",\"hurghada\",\"ronne\",\"kosai\",\"mount gambier\",\"shingu\",\"northam\",\"saint george\",\"tefe\",\"havre-saint-pierre\",\"cockburn town\",\"klupci\",\"gibara\",\"margate\",\"kahului\",\"hamilton\",\"killybegs\",\"palmas\",\"lima\",\"la paz\",\"cortes\",\"kenai\",\"rognan\",\"tucuman\",\"geraldton\",\"salas\",\"guerrero negro\",\"benguela\",\"aquiraz\",\"ponta delgada\",\"khvoynaya\",\"bosaso\",\"bengkulu\",\"havoysund\",\"saint-pierre\",\"santa rosa\",\"ankang\",\"alice springs\",\"andilamena\",\"arvika\",\"huarmey\",\"libertador general san martin\",\"pontianak\",\"iisalmi\",\"choszczno\",\"port elizabeth\",\"lira\",\"kjollefjord\",\"manta\",\"marawi\",\"kuala terengganu\",\"houma\",\"hualmay\",\"asyut\",\"victoria\",\"quatre cocos\",\"maceio\",\"ballina\",\"cam ranh\",\"pedernales\",\"cabo san lucas\",\"caravelas\",\"sao filipe\",\"lagoa\",\"bardiyah\",\"peace river\",\"chimbote\",\"winsum\",\"bonito\",\"port-gentil\",\"husavik\",\"san fernando\",\"lewiston\",\"cidreira\",\"chateaudun\",\"bhubaneswar\",\"sechura\",\"haines junction\",\"jambi\",\"antofagasta\",\"sao joao da barra\",\"broken hill\",\"dunedin\",\"mabaruma\",\"pierre\",\"rauma\",\"laurel\",\"spalene porici\",\"williamsburg\",\"quchan\",\"lusaka\",\"panama city\",\"altagracia de orituco\",\"nago\",\"paita\",\"karratha\",\"bonham\",\"saint paul\",\"chingola\",\"montepuez\",\"joacaba\",\"nouadhibou\",\"kendari\",\"jeremie\",\"coquimbo\",\"mehamn\",\"ancud\",\"port hedland\",\"dawei\",\"portland\",\"severo-kurilsk\",\"balingasay\",\"saldanha\",\"mareeba\",\"hervey bay\",\"vardo\",\"jackson\",\"marsabit\",\"quelimane\",\"nemuro\",\"dumbraveni\",\"laguna\",\"sorong\",\"riyadh\",\"taperoa\",\"clovis\",\"paea\",\"parana\",\"belaya glina\",\"starkville\",\"luanda\",\"north bend\",\"oliver\",\"nishihara\",\"taltal\",\"abengourou\",\"tabou\",\"nyimba\",\"san cristobal\",\"jatai\",\"quang ngai\",\"lompoc\",\"hasuda\",\"sterling\",\"masterton\",\"hofn\",\"havelock\",\"santiago del estero\",\"te anau\",\"ilinskiy\",\"dargaville\",\"smithfield\",\"naivasha\",\"syracuse\",\"alcudia\",\"grindavik\",\"namatanai\",\"jumla\",\"ayorou\",\"sept-iles\",\"hisar\",\"moberly\",\"lithgow\",\"gloversville\",\"kalmunai\",\"shimoda\",\"constitucion\",\"paris\",\"canmore\",\"sambava\",\"praia da vitoria\",\"angoche\",\"yeppoon\",\"ndjole\",\"tabuk\",\"jalu\",\"katsuura\",\"kupang\",\"atar\",\"escanaba\",\"pitimbu\",\"vallenar\",\"santa fe\",\"mandera\",\"the valley\",\"saint peter\",\"kisangani\",\"kavieng\",\"sukhumi\",\"casper\",\"lakes entrance\",\"liberal\",\"porto santo\",\"williams lake\",\"kloulklubed\",\"trelew\",\"marystown\",\"musoma\",\"mahajanga\",\"ocala\",\"pinawa\",\"port lincoln\",\"mayumba\",\"vila velha\",\"gladstone\",\"aksum\",\"georgetown\",\"aspindza\",\"iwaki\",\"sfantu gheorghe\",\"copiapo\",\"rocha\",\"nizwa\",\"inongo\",\"vangaindrano\",\"esperance\",\"irondequoit\",\"nong ki\",\"mogadishu\",\"kesova gora\",\"tongren\",\"along\",\"san juan\",\"fairmont\",\"xinxiang\",\"lodwar\",\"yanliang\",\"craig\",\"eldorado\",\"deyang\",\"sitka\",\"hachinohe\",\"peniche\",\"biltine\",\"banda aceh\",\"bundaberg\",\"redlands\",\"bismarck\",\"kauhajoki\",\"calabozo\",\"moerai\",\"vao\",\"launceston\",\"morondava\",\"kuah\",\"port blair\",\"half moon bay\",\"boksitogorsk\",\"moose factory\",\"gonbad-e qabus\",\"nanyuki\",\"tromso\",\"ikungi\",\"los llanos de aridane\",\"alfenas\",\"muros\",\"hong gai\",\"marsh harbour\",\"coffs harbour\",\"eureka\",\"saint-leu\",\"saint anthony\",\"nova bystrice\",\"namibe\",\"sioux lookout\",\"moron\",\"kuryk\",\"pangkalanbuun\",\"aberdeen\",\"soyo\",\"tudela\",\"kita\",\"banjar\",\"jacareacanga\",\"pokhara\",\"tanete\",\"lasa\",\"campbell river\",\"maumere\",\"karoi\",\"sistranda\",\"yazman\",\"goderich\",\"skjervoy\",\"fort-shevchenko\",\"ushibuka\",\"arona\",\"laguna de perlas\",\"monfalcone\",\"new bern\",\"oussouye\",\"sur\",\"altamont\",\"dubbo\",\"san quintin\"],\"size\":{\"__ndarray__\":\"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\",\"dtype\":\"float64\",\"order\":\"little\",\"shape\":[373]}},\"selected\":{\"id\":\"1757\"},\"selection_policy\":{\"id\":\"1769\"}},\"id\":\"1756\",\"type\":\"ColumnDataSource\"},{\"attributes\":{\"fill_alpha\":{\"value\":0.2},\"fill_color\":{\"field\":\"color\",\"transform\":{\"id\":\"1755\"}},\"hatch_alpha\":{\"value\":0.2},\"hatch_color\":{\"field\":\"color\",\"transform\":{\"id\":\"1755\"}},\"line_alpha\":{\"value\":0.2},\"line_color\":{\"field\":\"color\",\"transform\":{\"id\":\"1755\"}},\"size\":{\"field\":\"size\"},\"x\":{\"field\":\"Lng\"},\"y\":{\"field\":\"Lat\"}},\"id\":\"1763\",\"type\":\"Scatter\"},{\"attributes\":{},\"id\":\"1713\",\"type\":\"ResetTool\"},{\"attributes\":{},\"id\":\"1769\",\"type\":\"UnionRenderers\"},{\"attributes\":{\"bottom_units\":\"screen\",\"coordinates\":null,\"fill_alpha\":0.5,\"fill_color\":\"lightgrey\",\"group\":null,\"left_units\":\"screen\",\"level\":\"overlay\",\"line_alpha\":1.0,\"line_color\":\"black\",\"line_dash\":[4,4],\"line_width\":2,\"right_units\":\"screen\",\"syncable\":false,\"top_units\":\"screen\"},\"id\":\"1714\",\"type\":\"BoxAnnotation\"},{\"attributes\":{},\"id\":\"1737\",\"type\":\"AllLabels\"},{\"attributes\":{\"factors\":[\"byron bay\",\"punta arenas\",\"faanui\",\"new norfolk\",\"cayenne\",\"fortuna\",\"ushuaia\",\"buraydah\",\"vaini\",\"hermanus\",\"puerto ayora\",\"bethel\",\"cape town\",\"chuy\",\"rikitea\",\"shenzhen\",\"gorgan\",\"sampit\",\"mindelo\",\"athabasca\",\"brentwood\",\"ponta do sol\",\"richards bay\",\"santa isabel do rio negro\",\"hilo\",\"westport\",\"lorengau\",\"saint-philippe\",\"hobart\",\"olafsvik\",\"itarema\",\"kodiak\",\"castro\",\"hasaki\",\"bredasdorp\",\"camacha\",\"garowe\",\"puri\",\"klaksvik\",\"port macquarie\",\"kapaa\",\"channel-port aux basques\",\"ilhabela\",\"tual\",\"mahebourg\",\"kihei\",\"atuona\",\"avarua\",\"oneonta\",\"jamestown\",\"souillac\",\"corrales\",\"pisco\",\"mikhaylovka\",\"isangel\",\"marfino\",\"bathsheba\",\"temerloh\",\"plettenberg bay\",\"sorland\",\"quarai\",\"touros\",\"mar del plata\",\"nabire\",\"rio gallegos\",\"mexico\",\"norden\",\"dubuque\",\"hun\",\"grand gaube\",\"champerico\",\"elizabeth city\",\"salta\",\"hithadhoo\",\"ahipara\",\"salalah\",\"maragogi\",\"pacific grove\",\"anapskaya\",\"hurghada\",\"ronne\",\"kosai\",\"mount gambier\",\"shingu\",\"northam\",\"saint george\",\"tefe\",\"havre-saint-pierre\",\"cockburn town\",\"klupci\",\"gibara\",\"margate\",\"kahului\",\"hamilton\",\"killybegs\",\"palmas\",\"lima\",\"la paz\",\"cortes\",\"kenai\",\"rognan\",\"tucuman\",\"geraldton\",\"salas\",\"guerrero negro\",\"benguela\",\"aquiraz\",\"ponta delgada\",\"khvoynaya\",\"bosaso\",\"bengkulu\",\"havoysund\",\"saint-pierre\",\"santa rosa\",\"ankang\",\"alice springs\",\"andilamena\",\"arvika\",\"huarmey\",\"libertador general san martin\",\"pontianak\",\"iisalmi\",\"choszczno\",\"port elizabeth\",\"lira\",\"kjollefjord\",\"manta\",\"marawi\",\"kuala terengganu\",\"houma\",\"hualmay\",\"asyut\",\"victoria\",\"quatre cocos\",\"maceio\",\"ballina\",\"cam ranh\",\"pedernales\",\"cabo san lucas\",\"caravelas\",\"sao filipe\",\"lagoa\",\"bardiyah\",\"peace river\",\"chimbote\",\"winsum\",\"bonito\",\"port-gentil\",\"husavik\",\"san fernando\",\"lewiston\",\"cidreira\",\"chateaudun\",\"bhubaneswar\",\"sechura\",\"haines junction\",\"jambi\",\"antofagasta\",\"sao joao da barra\",\"broken hill\",\"dunedin\",\"mabaruma\",\"pierre\",\"rauma\",\"laurel\",\"spalene porici\",\"williamsburg\",\"quchan\",\"lusaka\",\"panama city\",\"altagracia de orituco\",\"nago\",\"paita\",\"karratha\",\"bonham\",\"saint paul\",\"chingola\",\"montepuez\",\"joacaba\",\"nouadhibou\",\"kendari\",\"jeremie\",\"coquimbo\",\"mehamn\",\"ancud\",\"port hedland\",\"dawei\",\"portland\",\"severo-kurilsk\",\"balingasay\",\"saldanha\",\"mareeba\",\"hervey bay\",\"vardo\",\"jackson\",\"marsabit\",\"quelimane\",\"nemuro\",\"dumbraveni\",\"laguna\",\"sorong\",\"riyadh\",\"taperoa\",\"clovis\",\"paea\",\"parana\",\"belaya glina\",\"starkville\",\"luanda\",\"north bend\",\"oliver\",\"nishihara\",\"taltal\",\"abengourou\",\"tabou\",\"nyimba\",\"san cristobal\",\"jatai\",\"quang ngai\",\"lompoc\",\"hasuda\",\"sterling\",\"masterton\",\"hofn\",\"havelock\",\"santiago del estero\",\"te anau\",\"ilinskiy\",\"dargaville\",\"smithfield\",\"naivasha\",\"syracuse\",\"alcudia\",\"grindavik\",\"namatanai\",\"jumla\",\"ayorou\",\"sept-iles\",\"hisar\",\"moberly\",\"lithgow\",\"gloversville\",\"kalmunai\",\"shimoda\",\"constitucion\",\"paris\",\"canmore\",\"sambava\",\"praia da vitoria\",\"angoche\",\"yeppoon\",\"ndjole\",\"tabuk\",\"jalu\",\"katsuura\",\"kupang\",\"atar\",\"escanaba\",\"pitimbu\",\"vallenar\",\"santa fe\",\"mandera\",\"the valley\",\"saint peter\",\"kisangani\",\"kavieng\",\"sukhumi\",\"casper\",\"lakes entrance\",\"liberal\",\"porto santo\",\"williams lake\",\"kloulklubed\",\"trelew\",\"marystown\",\"musoma\",\"mahajanga\",\"ocala\",\"pinawa\",\"port lincoln\",\"mayumba\",\"vila velha\",\"gladstone\",\"aksum\",\"georgetown\",\"aspindza\",\"iwaki\",\"sfantu gheorghe\",\"copiapo\",\"rocha\",\"nizwa\",\"inongo\",\"vangaindrano\",\"esperance\",\"irondequoit\",\"nong ki\",\"mogadishu\",\"kesova gora\",\"tongren\",\"along\",\"san juan\",\"fairmont\",\"xinxiang\",\"lodwar\",\"yanliang\",\"craig\",\"eldorado\",\"deyang\",\"sitka\",\"hachinohe\",\"peniche\",\"biltine\",\"banda aceh\",\"bundaberg\",\"redlands\",\"bismarck\",\"kauhajoki\",\"calabozo\",\"moerai\",\"vao\",\"launceston\",\"morondava\",\"kuah\",\"port blair\",\"half moon bay\",\"boksitogorsk\",\"moose factory\",\"gonbad-e qabus\",\"nanyuki\",\"tromso\",\"ikungi\",\"los llanos de aridane\",\"alfenas\",\"muros\",\"hong gai\",\"marsh harbour\",\"coffs harbour\",\"eureka\",\"saint-leu\",\"saint anthony\",\"nova bystrice\",\"namibe\",\"sioux lookout\",\"moron\",\"kuryk\",\"pangkalanbuun\",\"aberdeen\",\"soyo\",\"tudela\",\"kita\",\"banjar\",\"jacareacanga\",\"pokhara\",\"tanete\",\"lasa\",\"campbell river\",\"maumere\",\"karoi\",\"sistranda\",\"yazman\",\"goderich\",\"skjervoy\",\"fort-shevchenko\",\"ushibuka\",\"arona\",\"laguna de perlas\",\"monfalcone\",\"new bern\",\"oussouye\",\"sur\",\"altamont\",\"dubbo\",\"san quintin\"],\"palette\":[\"#1f77b3\",\"#ff7e0e\",\"#2ba02b\",\"#d62628\",\"#9367bc\",\"#8c564b\",\"#e277c1\",\"#7e7e7e\",\"#bcbc21\",\"#16bdcf\",\"#3a0182\",\"#004201\",\"#0fffa8\",\"#5d003f\",\"#bcbcff\",\"#d8afa1\",\"#b80080\",\"#004d52\",\"#6b6400\",\"#7c0100\",\"#6026ff\",\"#ffff9a\",\"#564964\",\"#8cb893\",\"#93fbff\",\"#018267\",\"#90ff00\",\"#8200a0\",\"#ac8944\",\"#5b3400\",\"#ffbff2\",\"#ff6e75\",\"#798cff\",\"#dd00ff\",\"#505646\",\"#004489\",\"#ffbf60\",\"#ff018c\",\"#bdc8cf\",\"#af97b5\",\"#b65600\",\"#017000\",\"#cd87ff\",\"#1cd646\",\"#bfebc3\",\"#7997b5\",\"#a56089\",\"#6e8956\",\"#bc7c75\",\"#8a2844\",\"#00acff\",\"#8ed4ff\",\"#4b6d77\",\"#00d4b1\",\"#9300f2\",\"#8a9500\",\"#5d5b9e\",\"#fddfba\",\"#00939e\",\"#ffdb00\",\"#00aa79\",\"#520067\",\"#000091\",\"#0a5d3d\",\"#a5e275\",\"#623b41\",\"#c6c689\",\"#ff9eb5\",\"#cd4f6b\",\"#ff07d6\",\"#8a3a05\",\"#7e3d70\",\"#ff4901\",\"#602ba5\",\"#1c00ff\",\"#e6dfff\",\"#aa3baf\",\"#d89c00\",\"#a3a39e\",\"#3f69ff\",\"#46490c\",\"#7b6985\",\"#6b978c\",\"#ff9a75\",\"#835bff\",\"#7c6b46\",\"#80b654\",\"#bc0049\",\"#fd93ff\",\"#5d0018\",\"#89d1d1\",\"#9c8cd3\",\"#da6d42\",\"#8a5700\",\"#3b5069\",\"#4b6b3b\",\"#edcfd8\",\"#cfedff\",\"#aa1500\",\"#dfff4f\",\"#ff2a56\",\"#d1499e\",\"#707cb8\",\"#598000\",\"#00e4fd\",\"#774b95\",\"#67d48c\",\"#3d3a72\",\"#ac413f\",\"#d6a166\",\"#c169cd\",\"#69595d\",\"#87aced\",\"#a0a569\",\"#d1aae6\",\"#870062\",\"#00fddb\",\"#672818\",\"#b342ff\",\"#0e59c4\",\"#168742\",\"#90d300\",\"#cd7900\",\"#f959ff\",\"#5b7466\",\"#8eaeb3\",\"#9c7c8c\",\"#4600c6\",\"#6b4d2d\",\"#a56d46\",\"#9e8972\",\"#a8afca\",\"#cd8ca7\",\"#00fd64\",\"#917900\",\"#ff62a1\",\"#f4ffd8\",\"#018cf0\",\"#13aca0\",\"#5b2d59\",\"#89859e\",\"#cfccba\",\"#d4afc4\",\"#dbdd6d\",\"#cffff4\",\"#006485\",\"#006962\",\"#a84167\",\"#2d97c4\",\"#a874ff\",\"#26ba5d\",\"#57b600\",\"#caffa7\",\"#a379aa\",\"#ffbc93\",\"#89e2c1\",\"#0fc8ff\",\"#d400c4\",\"#626d89\",\"#69858e\",\"#4b4d52\",\"#aa6067\",\"#79b5d4\",\"#2b5916\",\"#9a0024\",\"#bdd1f2\",\"#896e67\",\"#69a56b\",\"#855467\",\"#aecdba\",\"#87997e\",\"#cadb00\",\"#9a0390\",\"#ebbc1a\",\"#eb9cd1\",\"#70006e\",\"#b1a131\",\"#ca6b93\",\"#4146a3\",\"#e48c89\",\"#d44400\",\"#c68aca\",\"#b69597\",\"#d41f75\",\"#724bcc\",\"#674d00\",\"#672138\",\"#38564f\",\"#6ebaaa\",\"#853a31\",\"#a5d397\",\"#b8af8e\",\"#d8e4df\",\"#aa00df\",\"#cac1db\",\"#ffdf8c\",\"#e2524d\",\"#66696e\",\"#ff001c\",\"#522d72\",\"#4d906b\",\"#a86d11\",\"#ff9e26\",\"#5ea3af\",\"#c88556\",\"#915997\",\"#a3a1ff\",\"#fdbaba\",\"#242a87\",\"#dbe6a8\",\"#97f2a7\",\"#6793d6\",\"#ba5b3f\",\"#3a5d91\",\"#364f2f\",\"#267c95\",\"#89959a\",\"#cfb356\",\"#004664\",\"#5e5d2f\",\"#8e8e41\",\"#ac3f13\",\"#69953b\",\"#a13d85\",\"#bfb6ba\",\"#acc667\",\"#6469cf\",\"#91af00\",\"#2be2da\",\"#016e36\",\"#ff7952\",\"#42807e\",\"#4fe800\",\"#995428\",\"#5d0a00\",\"#a30057\",\"#0c8700\",\"#5982a7\",\"#ffebfb\",\"#4b6901\",\"#8775d4\",\"#e6c6ff\",\"#a5ffda\",\"#d86e77\",\"#df014b\",\"#69675b\",\"#776ba1\",\"#7e8067\",\"#594685\",\"#0000ca\",\"#7c002a\",\"#97ff72\",\"#b5e2e1\",\"#db52c8\",\"#777734\",\"#57bd8e\",\"#1f77b3\",\"#ff7e0e\",\"#2ba02b\",\"#d62628\",\"#9367bc\",\"#8c564b\",\"#e277c1\",\"#7e7e7e\",\"#bcbc21\",\"#16bdcf\",\"#3a0182\",\"#004201\",\"#0fffa8\",\"#5d003f\",\"#bcbcff\",\"#d8afa1\",\"#b80080\",\"#004d52\",\"#6b6400\",\"#7c0100\",\"#6026ff\",\"#ffff9a\",\"#564964\",\"#8cb893\",\"#93fbff\",\"#018267\",\"#90ff00\",\"#8200a0\",\"#ac8944\",\"#5b3400\",\"#ffbff2\",\"#ff6e75\",\"#798cff\",\"#dd00ff\",\"#505646\",\"#004489\",\"#ffbf60\",\"#ff018c\",\"#bdc8cf\",\"#af97b5\",\"#b65600\",\"#017000\",\"#cd87ff\",\"#1cd646\",\"#bfebc3\",\"#7997b5\",\"#a56089\",\"#6e8956\",\"#bc7c75\",\"#8a2844\",\"#00acff\",\"#8ed4ff\",\"#4b6d77\",\"#00d4b1\",\"#9300f2\",\"#8a9500\",\"#5d5b9e\",\"#fddfba\",\"#00939e\",\"#ffdb00\",\"#00aa79\",\"#520067\",\"#000091\",\"#0a5d3d\",\"#a5e275\",\"#623b41\",\"#c6c689\",\"#ff9eb5\",\"#cd4f6b\",\"#ff07d6\",\"#8a3a05\",\"#7e3d70\",\"#ff4901\",\"#602ba5\",\"#1c00ff\",\"#e6dfff\",\"#aa3baf\",\"#d89c00\",\"#a3a39e\",\"#3f69ff\",\"#46490c\",\"#7b6985\",\"#6b978c\",\"#ff9a75\",\"#835bff\",\"#7c6b46\",\"#80b654\",\"#bc0049\",\"#fd93ff\",\"#5d0018\",\"#89d1d1\",\"#9c8cd3\",\"#da6d42\",\"#8a5700\",\"#3b5069\",\"#4b6b3b\",\"#edcfd8\",\"#cfedff\",\"#aa1500\",\"#dfff4f\",\"#ff2a56\",\"#d1499e\",\"#707cb8\",\"#598000\",\"#00e4fd\",\"#774b95\",\"#67d48c\",\"#3d3a72\",\"#ac413f\",\"#d6a166\",\"#c169cd\",\"#69595d\",\"#87aced\",\"#a0a569\",\"#d1aae6\",\"#870062\",\"#00fddb\"]},\"id\":\"1755\",\"type\":\"CategoricalColorMapper\"},{\"attributes\":{},\"id\":\"1699\",\"type\":\"LinearScale\"},{\"attributes\":{\"callback\":null,\"formatters\":{\"$x\":{\"id\":\"1774\"},\"$y\":{\"id\":\"1775\"}},\"renderers\":[{\"id\":\"1764\"}],\"tags\":[\"hv_created\"],\"tooltips\":[[\"Lng\",\"$x{custom}\"],[\"Lat\",\"$y{custom}\"],[\"City\",\"@{City}\"],[\"Max Temp\",\"@{Max_Temp}\"],[\"Weather\",\"@{Weather}\"],[\"Country\",\"@{Country}\"],[\"Hotel Name\",\"@{Hotel_Name}\"]]},\"id\":\"1689\",\"type\":\"HoverTool\"},{\"attributes\":{\"dimension\":\"lat\"},\"id\":\"1726\",\"type\":\"MercatorTicker\"},{\"attributes\":{},\"id\":\"1730\",\"type\":\"AllLabels\"},{\"attributes\":{\"dimension\":\"lon\"},\"id\":\"1724\",\"type\":\"MercatorTicker\"},{\"attributes\":{\"below\":[{\"id\":\"1701\"}],\"center\":[{\"id\":\"1704\"},{\"id\":\"1708\"}],\"frame_height\":500,\"frame_width\":700,\"height\":null,\"left\":[{\"id\":\"1705\"}],\"margin\":[5,5,5,5],\"match_aspect\":true,\"min_border_bottom\":10,\"min_border_left\":10,\"min_border_right\":10,\"min_border_top\":10,\"renderers\":[{\"id\":\"1753\"},{\"id\":\"1764\"}],\"right\":[{\"id\":\"1772\"}],\"sizing_mode\":\"fixed\",\"title\":{\"id\":\"1693\"},\"toolbar\":{\"id\":\"1715\"},\"width\":null,\"x_range\":{\"id\":\"1685\"},\"x_scale\":{\"id\":\"1697\"},\"y_range\":{\"id\":\"1686\"},\"y_scale\":{\"id\":\"1699\"}},\"id\":\"1692\",\"subtype\":\"Figure\",\"type\":\"Plot\"},{\"attributes\":{\"fill_color\":{\"field\":\"color\",\"transform\":{\"id\":\"1755\"}},\"hatch_color\":{\"field\":\"color\",\"transform\":{\"id\":\"1755\"}},\"line_color\":{\"field\":\"color\",\"transform\":{\"id\":\"1755\"}},\"size\":{\"field\":\"size\"},\"x\":{\"field\":\"Lng\"},\"y\":{\"field\":\"Lat\"}},\"id\":\"1762\",\"type\":\"Scatter\"},{\"attributes\":{\"axis_label\":\"x\",\"coordinates\":null,\"formatter\":{\"id\":\"1725\"},\"group\":null,\"major_label_policy\":{\"id\":\"1730\"},\"ticker\":{\"id\":\"1724\"}},\"id\":\"1701\",\"type\":\"LinearAxis\"},{\"attributes\":{\"code\":\"\\n        var projections = Bokeh.require(\\\"core/util/projections\\\");\\n        var x = special_vars.data_x\\n        var y = special_vars.data_y\\n        if (projections.wgs84_mercator.invert == null) {\\n          var coords = projections.wgs84_mercator.inverse([x, y])\\n        } else {\\n          var coords = projections.wgs84_mercator.invert(x, y)\\n        }\\n        return \\\"\\\" + (coords[0]).toFixed(4)\\n    \"},\"id\":\"1774\",\"type\":\"CustomJSHover\"},{\"attributes\":{\"coordinates\":null,\"group\":null,\"text_color\":\"black\",\"text_font_size\":\"12pt\"},\"id\":\"1693\",\"type\":\"Title\"},{\"attributes\":{\"margin\":[5,5,5,5],\"name\":\"HSpacer02271\",\"sizing_mode\":\"stretch_width\"},\"id\":\"1680\",\"type\":\"Spacer\"},{\"attributes\":{\"end\":22343908.915440094,\"min_interval\":5,\"reset_end\":22343908.915440094,\"reset_start\":-22292980.248402175,\"start\":-22292980.248402175,\"tags\":[[[\"Lng\",\"Lng\",null]]]},\"id\":\"1685\",\"type\":\"Range1d\"},{\"attributes\":{\"end\":17987417.7311427,\"min_interval\":5,\"reset_end\":17987417.7311427,\"reset_start\":-13896074.528744638,\"start\":-13896074.528744638,\"tags\":[[[\"Lat\",\"Lat\",null]]]},\"id\":\"1686\",\"type\":\"Range1d\"},{\"attributes\":{\"fill_color\":{\"field\":\"color\",\"transform\":{\"id\":\"1755\"}},\"hatch_color\":{\"field\":\"color\",\"transform\":{\"id\":\"1755\"}},\"line_color\":{\"field\":\"color\",\"transform\":{\"id\":\"1755\"}},\"size\":{\"field\":\"size\"},\"x\":{\"field\":\"Lng\"},\"y\":{\"field\":\"Lat\"}},\"id\":\"1761\",\"type\":\"Scatter\"},{\"attributes\":{\"tools\":[{\"id\":\"1689\"},{\"id\":\"1709\"},{\"id\":\"1710\"},{\"id\":\"1711\"},{\"id\":\"1712\"},{\"id\":\"1713\"}]},\"id\":\"1715\",\"type\":\"Toolbar\"},{\"attributes\":{\"fill_color\":{\"field\":\"color\",\"transform\":{\"id\":\"1755\"}},\"hatch_color\":{\"field\":\"color\",\"transform\":{\"id\":\"1755\"}},\"line_color\":{\"field\":\"color\",\"transform\":{\"id\":\"1755\"}},\"size\":{\"field\":\"size\"},\"x\":{\"field\":\"Lng\"},\"y\":{\"field\":\"Lat\"}},\"id\":\"1759\",\"type\":\"Scatter\"},{\"attributes\":{},\"id\":\"1697\",\"type\":\"LinearScale\"},{\"attributes\":{\"dimension\":\"lat\"},\"id\":\"1727\",\"type\":\"MercatorTickFormatter\"},{\"attributes\":{\"attribution\":\"&copy; <a href=\\\"https://www.openstreetmap.org/copyright\\\">OpenStreetMap</a> contributors\",\"url\":\"https://c.tile.openstreetmap.org/{Z}/{X}/{Y}.png\"},\"id\":\"1750\",\"type\":\"WMTSTileSource\"},{\"attributes\":{\"fill_alpha\":{\"value\":0.1},\"fill_color\":{\"field\":\"color\",\"transform\":{\"id\":\"1755\"}},\"hatch_alpha\":{\"value\":0.1},\"hatch_color\":{\"field\":\"color\",\"transform\":{\"id\":\"1755\"}},\"line_alpha\":{\"value\":0.1},\"line_color\":{\"field\":\"color\",\"transform\":{\"id\":\"1755\"}},\"size\":{\"field\":\"size\"},\"x\":{\"field\":\"Lng\"},\"y\":{\"field\":\"Lat\"}},\"id\":\"1760\",\"type\":\"Scatter\"},{\"attributes\":{\"coordinates\":null,\"group\":null,\"level\":\"glyph\",\"tile_source\":{\"id\":\"1750\"}},\"id\":\"1753\",\"type\":\"TileRenderer\"}],\"root_ids\":[\"1679\"]},\"title\":\"Bokeh Application\",\"version\":\"2.4.3\"}};\n",
       "    var render_items = [{\"docid\":\"ba13f469-7849-4100-8491-cead029f63f4\",\"root_ids\":[\"1679\"],\"roots\":{\"1679\":\"b7d63536-0a3e-4e18-a005-ac0c51208462\"}}];\n",
       "    root.Bokeh.embed.embed_items_notebook(docs_json, render_items);\n",
       "  }\n",
       "  if (root.Bokeh !== undefined && root.Bokeh.Panel !== undefined) {\n",
       "    embed_document(root);\n",
       "  } else {\n",
       "    var attempts = 0;\n",
       "    var timer = setInterval(function(root) {\n",
       "      if (root.Bokeh !== undefined && root.Bokeh.Panel !== undefined) {\n",
       "        clearInterval(timer);\n",
       "        embed_document(root);\n",
       "      } else if (document.readyState == \"complete\") {\n",
       "        attempts++;\n",
       "        if (attempts > 200) {\n",
       "          clearInterval(timer);\n",
       "          console.log(\"Bokeh: ERROR: Unable to run BokehJS code because BokehJS library is missing\");\n",
       "        }\n",
       "      }\n",
       "    }, 25, root)\n",
       "  }\n",
       "})(window);</script>"
      ],
      "text/plain": [
       ":Overlay\n",
       "   .Tiles.I  :Tiles   [x,y]\n",
       "   .Points.I :Points   [Lng,Lat]   (City,Max Temp,Weather,Country,Hotel Name)"
      ]
     },
     "execution_count": 12,
     "metadata": {
      "application/vnd.holoviews_exec.v0+json": {
       "id": "1679"
      }
     },
     "output_type": "execute_result"
    }
   ],
   "source": [
    "# Configure the map plot\n",
    "map_plot = vacation_df.hvplot.points(\n",
    "    \"Lng\",\n",
    "    \"Lat\",\n",
    "    geo = True,\n",
    "    tiles = \"OSM\",\n",
    "    frame_width = 700,\n",
    "    frame_height = 500,\n",
    "    size = \"Max Temp\",\n",
    "    scale = 1,\n",
    "    color = \"City\",\n",
    "    hover_cols = [\"Weather\", \"Country\", \"Hotel Name\"])\n",
    "\n",
    "# Display the map\n",
    "map_plot"
   ]
  },
  {
   "cell_type": "markdown",
   "metadata": {},
   "source": [
    "## From the map, *choose four cities* that a customer might want to visit. They should be close together and in the same country. Use the `loc` method to create separate DataFrames for each city on the travel route."
   ]
  },
  {
   "cell_type": "code",
   "execution_count": null,
   "metadata": {},
   "outputs": [],
   "source": [
    "# Create DataFrames for each city by filtering the 'vacation_df' using the loc method\n",
    "vacation_start = # YOUR CODE HERE\n",
    "vacation_end = # YOUR CODE HERE\n",
    "vacation_stop1 = # YOUR CODE HERE\n",
    "vacation_stop2 = # YOUR CODE HERE\n",
    "vacation_stop3 = # YOUR CODE HERE"
   ]
  },
  {
   "cell_type": "markdown",
   "metadata": {},
   "source": [
    "## Use the Pandas `concat` function to merge the DataFrame from each city in the itinerary to create a new DataFrame named `itinerary_df` to store the itinerary details"
   ]
  },
  {
   "cell_type": "code",
   "execution_count": null,
   "metadata": {},
   "outputs": [],
   "source": [
    "# Use the Pandas concat function to create a new DataFrame to store the itinerary details.\n",
    "itinerary_df = # YOUR CODE HERE\n",
    "\n",
    "# Display sample data\n",
    "# YOUR CODE HERE"
   ]
  },
  {
   "cell_type": "markdown",
   "metadata": {},
   "source": [
    "## Use the Pandas `copy` function to create a new DataFrame named `waypoints_df` to store the longitude and latitude for each city in `itinerary_df`"
   ]
  },
  {
   "cell_type": "code",
   "execution_count": null,
   "metadata": {},
   "outputs": [],
   "source": [
    "# Create a Pandas DataFrame to store the latitude and longitude for each city in the itineray\n",
    "waypoints_df = # YOUR CODE HERE\n",
    "\n",
    "# Display sample data\n",
    "# YOUR CODE HERE"
   ]
  },
  {
   "cell_type": "markdown",
   "metadata": {},
   "source": [
    "## Use GeoViews to create map that shows the four cities in the itinerary"
   ]
  },
  {
   "cell_type": "code",
   "execution_count": null,
   "metadata": {},
   "outputs": [],
   "source": [
    "# Configure the map plot by using the itineraty_df\n",
    "waypoints_map = # YOUR CODE HERE"
   ]
  },
  {
   "cell_type": "code",
   "execution_count": null,
   "metadata": {},
   "outputs": [],
   "source": [
    "# Display the route_map\n",
    "# YOUR CODE HERE"
   ]
  },
  {
   "cell_type": "markdown",
   "metadata": {},
   "source": [
    "## Next, you'll use the Geoapify Routing API to find a route between the cities in the itinerary. Review the code that sets the initial parameters and fetches the coordinates from each city to define the `waypoints` parameter by using a `for` loop"
   ]
  },
  {
   "cell_type": "code",
   "execution_count": null,
   "metadata": {},
   "outputs": [],
   "source": [
    "# Set parameters to trace the route\n",
    "radius = 5000\n",
    "params = {\n",
    "    \"mode\":\"drive\",\n",
    "    \"apiKey\": geoapify_key,\n",
    "}"
   ]
  },
  {
   "cell_type": "code",
   "execution_count": null,
   "metadata": {},
   "outputs": [],
   "source": [
    "# Set an empty waypoints String variable\n",
    "waypoints = \"\"\n",
    "\n",
    "# Iterate through the route_df DataFrame to define the waypoints\n",
    "for index, row in waypoints_df.iterrows():\n",
    "    waypoints = waypoints + str(row[\"Lat\"]) + \",\" + str(row[\"Lng\"]) + \"|\"\n",
    "\n",
    "# Delete the last character from the string\n",
    "waypoints = waypoints[:-1]\n",
    "\n",
    "# Add the waypoints to the params dictionary\n",
    "params[\"waypoints\"] = waypoints\n",
    "\n",
    "# Display the params dictionary\n",
    "params"
   ]
  },
  {
   "cell_type": "markdown",
   "metadata": {},
   "source": [
    "## Use the Geoapify Routing API to retrieve the route's directions for your itinerary"
   ]
  },
  {
   "cell_type": "code",
   "execution_count": null,
   "metadata": {},
   "outputs": [],
   "source": [
    "# Set up the base URL for the Geoapify Places API.\n",
    "base_url = \"https://api.geoapify.com/v1/routing\"\n",
    "\n",
    "# Make request and retrieve the JSON data by using the params dictionaty\n",
    "route_response = # YOUR CODE HERE\n",
    "\n",
    "# Convert the API response to JSON format\n",
    "route_response = # YOUR CODE HERE"
   ]
  },
  {
   "cell_type": "markdown",
   "metadata": {},
   "source": [
    "## From the JSON response, store the route's legs coordinates in a variable called `legs`"
   ]
  },
  {
   "cell_type": "code",
   "execution_count": null,
   "metadata": {
    "scrolled": true,
    "tags": []
   },
   "outputs": [],
   "source": [
    "# Fetch the route's legs coordinates from the JSON reponse\n",
    "legs = # YOUR CODE HERE"
   ]
  },
  {
   "cell_type": "markdown",
   "metadata": {},
   "source": [
    "## Loop through the route legs coordinates to fetch the latitude and longitude for each step. Store the latitude and longitude value into two Python lists names `longitude` and `latitude`"
   ]
  },
  {
   "cell_type": "code",
   "execution_count": null,
   "metadata": {},
   "outputs": [],
   "source": [
    "# Create and empty list to store the longitude of each step\n",
    "# YOUR CODE HERE\n",
    "\n",
    "# Create and empty list to store the latitude of step\n",
    "# YOUR CODE HERE\n",
    "\n",
    "# Loop through the legs coordinates to fetch the latitude and longitude for each step\n",
    "# YOUR CODE HERE"
   ]
  },
  {
   "cell_type": "markdown",
   "metadata": {},
   "source": [
    "## Use the `longitude` and `latitude` Python lists to create a new DataFrame named `route_df`"
   ]
  },
  {
   "cell_type": "code",
   "execution_count": null,
   "metadata": {},
   "outputs": [],
   "source": [
    "# Create an empty DataFrame to store the steps' coordinates\n",
    "route_df = # YOUR CODE HERE\n",
    "\n",
    "# Add the steps' longitude and latitude from each step as columns to the DataFrame\n",
    "# YOUR CODE HERE\n",
    "\n",
    "# Display sample data\n",
    "# YOUR CODE HERE"
   ]
  },
  {
   "cell_type": "markdown",
   "metadata": {},
   "source": [
    "##  Use the GeoViews `Path` function to configure a line plot by using `route_df`. Set a custom color and width for the line that may contrast with the map"
   ]
  },
  {
   "cell_type": "code",
   "execution_count": null,
   "metadata": {},
   "outputs": [],
   "source": [
    "# Configure the route path by using the GeoViews' Path function\n",
    "route_path = # YOUR CODE HERE"
   ]
  },
  {
   "cell_type": "code",
   "execution_count": null,
   "metadata": {},
   "outputs": [],
   "source": [
    "# Display a composed plot by using the route_map and route_path objects\n",
    "# YOUR CODE HERE"
   ]
  },
  {
   "cell_type": "code",
   "execution_count": null,
   "metadata": {},
   "outputs": [],
   "source": []
  }
 ],
 "metadata": {
  "kernelspec": {
   "display_name": "Python 3 (ipykernel)",
   "language": "python",
   "name": "python3"
  },
  "language_info": {
   "codemirror_mode": {
    "name": "ipython",
    "version": 3
   },
   "file_extension": ".py",
   "mimetype": "text/x-python",
   "name": "python",
   "nbconvert_exporter": "python",
   "pygments_lexer": "ipython3",
   "version": "3.9.13"
  },
  "latex_envs": {
   "LaTeX_envs_menu_present": true,
   "autoclose": false,
   "autocomplete": true,
   "bibliofile": "biblio.bib",
   "cite_by": "apalike",
   "current_citInitial": 1,
   "eqLabelWithNumbers": true,
   "eqNumInitial": 1,
   "hotkeys": {
    "equation": "Ctrl-E",
    "itemize": "Ctrl-I"
   },
   "labels_anchors": false,
   "latex_user_defs": false,
   "report_style_numbering": false,
   "user_envs_cfg": false
  }
 },
 "nbformat": 4,
 "nbformat_minor": 4
}
